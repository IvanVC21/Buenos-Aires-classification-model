{
 "cells": [
  {
   "cell_type": "code",
   "execution_count": 57,
   "metadata": {},
   "outputs": [],
   "source": [
    "import pandas as pd\n",
    "import numpy as np\n",
    "import matplotlib.pyplot as plt\n",
    "import seaborn as sns\n",
    "import sklearn\n",
    "from sklearn.ensemble import RandomForestClassifier\n",
    "from sklearn.ensemble import GradientBoostingClassifier\n",
    "import xgboost"
   ]
  },
  {
   "cell_type": "code",
   "execution_count": 58,
   "metadata": {},
   "outputs": [
    {
     "data": {
      "text/plain": [
       "Index(['id', 'nhogar', 'miembro', 'comuna', 'dominio', 'edad', 'sexo',\n",
       "       'parentesco_jefe', 'situacion_conyugal', 'num_miembro_padre',\n",
       "       'num_miembro_madre', 'estado_ocupacional', 'cat_ocupacional',\n",
       "       'calidad_ingresos_lab', 'ingreso_total_lab', 'calidad_ingresos_no_lab',\n",
       "       'ingreso_total_no_lab', 'calidad_ingresos_totales', 'ingresos_totales',\n",
       "       'calidad_ingresos_familiares', 'ingresos_familiares',\n",
       "       'ingreso_per_capita_familiar', 'estado_educativo', 'sector_educativo',\n",
       "       'nivel_actual', 'nivel_max_educativo', 'años_escolaridad',\n",
       "       'lugar_nacimiento', 'afiliacion_salud', 'hijos_nacidos_vivos',\n",
       "       'cantidad_hijos_nac_vivos', 'age_group'],\n",
       "      dtype='object')"
      ]
     },
     "execution_count": 58,
     "metadata": {},
     "output_type": "execute_result"
    }
   ],
   "source": [
    "df = pd.read_csv('EDA_hogares_Buenos_Aires_2019.csv')\n",
    "pd.set_option('display.max_columns', None)\n",
    "df.columns"
   ]
  },
  {
   "cell_type": "code",
   "execution_count": 59,
   "metadata": {},
   "outputs": [
    {
     "data": {
      "text/html": [
       "<div>\n",
       "<style scoped>\n",
       "    .dataframe tbody tr th:only-of-type {\n",
       "        vertical-align: middle;\n",
       "    }\n",
       "\n",
       "    .dataframe tbody tr th {\n",
       "        vertical-align: top;\n",
       "    }\n",
       "\n",
       "    .dataframe thead th {\n",
       "        text-align: right;\n",
       "    }\n",
       "</style>\n",
       "<table border=\"1\" class=\"dataframe\">\n",
       "  <thead>\n",
       "    <tr style=\"text-align: right;\">\n",
       "      <th></th>\n",
       "      <th>ingresos_totales</th>\n",
       "      <th>situacion_conyugal</th>\n",
       "      <th>comuna</th>\n",
       "      <th>cat_ocupacional</th>\n",
       "      <th>sexo</th>\n",
       "      <th>edad</th>\n",
       "      <th>cantidad_hijos_nac_vivos</th>\n",
       "      <th>años_escolaridad</th>\n",
       "    </tr>\n",
       "  </thead>\n",
       "  <tbody>\n",
       "    <tr>\n",
       "      <th>0</th>\n",
       "      <td>6000</td>\n",
       "      <td>Soltero/a</td>\n",
       "      <td>5</td>\n",
       "      <td>No corresponde</td>\n",
       "      <td>Mujer</td>\n",
       "      <td>18</td>\n",
       "      <td>0</td>\n",
       "      <td>12</td>\n",
       "    </tr>\n",
       "    <tr>\n",
       "      <th>1</th>\n",
       "      <td>12000</td>\n",
       "      <td>Soltero/a</td>\n",
       "      <td>5</td>\n",
       "      <td>No corresponde</td>\n",
       "      <td>Mujer</td>\n",
       "      <td>18</td>\n",
       "      <td>0</td>\n",
       "      <td>12</td>\n",
       "    </tr>\n",
       "    <tr>\n",
       "      <th>2</th>\n",
       "      <td>0</td>\n",
       "      <td>Soltero/a</td>\n",
       "      <td>2</td>\n",
       "      <td>No corresponde</td>\n",
       "      <td>Varon</td>\n",
       "      <td>18</td>\n",
       "      <td>0</td>\n",
       "      <td>12</td>\n",
       "    </tr>\n",
       "    <tr>\n",
       "      <th>3</th>\n",
       "      <td>100000</td>\n",
       "      <td>Viudo/a</td>\n",
       "      <td>2</td>\n",
       "      <td>Asalariado</td>\n",
       "      <td>Mujer</td>\n",
       "      <td>50</td>\n",
       "      <td>2</td>\n",
       "      <td>17</td>\n",
       "    </tr>\n",
       "    <tr>\n",
       "      <th>4</th>\n",
       "      <td>0</td>\n",
       "      <td>Soltero/a</td>\n",
       "      <td>2</td>\n",
       "      <td>No corresponde</td>\n",
       "      <td>Varon</td>\n",
       "      <td>17</td>\n",
       "      <td>0</td>\n",
       "      <td>10</td>\n",
       "    </tr>\n",
       "  </tbody>\n",
       "</table>\n",
       "</div>"
      ],
      "text/plain": [
       "   ingresos_totales situacion_conyugal  comuna cat_ocupacional   sexo  edad   \n",
       "0              6000          Soltero/a       5  No corresponde  Mujer    18  \\\n",
       "1             12000          Soltero/a       5  No corresponde  Mujer    18   \n",
       "2                 0          Soltero/a       2  No corresponde  Varon    18   \n",
       "3            100000            Viudo/a       2      Asalariado  Mujer    50   \n",
       "4                 0          Soltero/a       2  No corresponde  Varon    17   \n",
       "\n",
       "   cantidad_hijos_nac_vivos años_escolaridad  \n",
       "0                         0               12  \n",
       "1                         0               12  \n",
       "2                         0               12  \n",
       "3                         2               17  \n",
       "4                         0               10  "
      ]
     },
     "execution_count": 59,
     "metadata": {},
     "output_type": "execute_result"
    }
   ],
   "source": [
    "df = df.loc[:, ['ingresos_totales', 'situacion_conyugal', 'comuna', 'cat_ocupacional', \n",
    "                'sexo', 'edad', 'cantidad_hijos_nac_vivos', 'años_escolaridad']]\n",
    "\n",
    "df.head()"
   ]
  },
  {
   "cell_type": "code",
   "execution_count": 60,
   "metadata": {},
   "outputs": [],
   "source": [
    "df2 = df[(df['edad'] >= 16) & \n",
    "         ((df['sexo'] == 'Varon') & (df['edad'] <= 65) | (df['sexo'] == 'Mujer') & (df['edad'] <= 60)) & \n",
    "         (df['ingresos_totales'] > 0)]\n"
   ]
  },
  {
   "cell_type": "code",
   "execution_count": 61,
   "metadata": {},
   "outputs": [
    {
     "name": "stderr",
     "output_type": "stream",
     "text": [
      "C:\\Users\\jesus.verdugo\\AppData\\Local\\Temp\\ipykernel_7632\\3284703989.py:10: SettingWithCopyWarning: \n",
      "A value is trying to be set on a copy of a slice from a DataFrame.\n",
      "Try using .loc[row_indexer,col_indexer] = value instead\n",
      "\n",
      "See the caveats in the documentation: https://pandas.pydata.org/pandas-docs/stable/user_guide/indexing.html#returning-a-view-versus-a-copy\n",
      "  df2['grupo_ingresos'] = pd.cut(df2['ingresos_totales'], bins=[-float('inf'), low_cutoff, high_cutoff, float('inf')],\n"
     ]
    },
    {
     "data": {
      "text/html": [
       "<div>\n",
       "<style scoped>\n",
       "    .dataframe tbody tr th:only-of-type {\n",
       "        vertical-align: middle;\n",
       "    }\n",
       "\n",
       "    .dataframe tbody tr th {\n",
       "        vertical-align: top;\n",
       "    }\n",
       "\n",
       "    .dataframe thead th {\n",
       "        text-align: right;\n",
       "    }\n",
       "</style>\n",
       "<table border=\"1\" class=\"dataframe\">\n",
       "  <thead>\n",
       "    <tr style=\"text-align: right;\">\n",
       "      <th></th>\n",
       "      <th>grupo_ingresos</th>\n",
       "      <th>situacion_conyugal</th>\n",
       "      <th>comuna</th>\n",
       "      <th>cat_ocupacional</th>\n",
       "      <th>sexo</th>\n",
       "      <th>edad</th>\n",
       "      <th>cantidad_hijos_nac_vivos</th>\n",
       "      <th>años_escolaridad</th>\n",
       "    </tr>\n",
       "  </thead>\n",
       "  <tbody>\n",
       "    <tr>\n",
       "      <th>0</th>\n",
       "      <td>ingreso bajo</td>\n",
       "      <td>Soltero/a</td>\n",
       "      <td>5</td>\n",
       "      <td>No corresponde</td>\n",
       "      <td>Mujer</td>\n",
       "      <td>18</td>\n",
       "      <td>0</td>\n",
       "      <td>12</td>\n",
       "    </tr>\n",
       "    <tr>\n",
       "      <th>1</th>\n",
       "      <td>ingreso bajo</td>\n",
       "      <td>Soltero/a</td>\n",
       "      <td>5</td>\n",
       "      <td>No corresponde</td>\n",
       "      <td>Mujer</td>\n",
       "      <td>18</td>\n",
       "      <td>0</td>\n",
       "      <td>12</td>\n",
       "    </tr>\n",
       "    <tr>\n",
       "      <th>3</th>\n",
       "      <td>ingreso alto</td>\n",
       "      <td>Viudo/a</td>\n",
       "      <td>2</td>\n",
       "      <td>Asalariado</td>\n",
       "      <td>Mujer</td>\n",
       "      <td>50</td>\n",
       "      <td>2</td>\n",
       "      <td>17</td>\n",
       "    </tr>\n",
       "    <tr>\n",
       "      <th>5</th>\n",
       "      <td>ingreso bajo</td>\n",
       "      <td>Unido/a</td>\n",
       "      <td>10</td>\n",
       "      <td>No corresponde</td>\n",
       "      <td>Mujer</td>\n",
       "      <td>18</td>\n",
       "      <td>1</td>\n",
       "      <td>8</td>\n",
       "    </tr>\n",
       "    <tr>\n",
       "      <th>6</th>\n",
       "      <td>ingreso medio</td>\n",
       "      <td>Unido/a</td>\n",
       "      <td>10</td>\n",
       "      <td>Asalariado</td>\n",
       "      <td>Varon</td>\n",
       "      <td>21</td>\n",
       "      <td>0</td>\n",
       "      <td>12</td>\n",
       "    </tr>\n",
       "  </tbody>\n",
       "</table>\n",
       "</div>"
      ],
      "text/plain": [
       "  grupo_ingresos situacion_conyugal  comuna cat_ocupacional   sexo  edad   \n",
       "0   ingreso bajo          Soltero/a       5  No corresponde  Mujer    18  \\\n",
       "1   ingreso bajo          Soltero/a       5  No corresponde  Mujer    18   \n",
       "3   ingreso alto            Viudo/a       2      Asalariado  Mujer    50   \n",
       "5   ingreso bajo            Unido/a      10  No corresponde  Mujer    18   \n",
       "6  ingreso medio            Unido/a      10      Asalariado  Varon    21   \n",
       "\n",
       "   cantidad_hijos_nac_vivos años_escolaridad  \n",
       "0                         0               12  \n",
       "1                         0               12  \n",
       "3                         2               17  \n",
       "5                         1                8  \n",
       "6                         0               12  "
      ]
     },
     "execution_count": 61,
     "metadata": {},
     "output_type": "execute_result"
    }
   ],
   "source": [
    "q1 = df2['ingresos_totales'].quantile(0.3)\n",
    "q3 = df2['ingresos_totales'].quantile(0.7)\n",
    "iqr = q3 - q1\n",
    "\n",
    "# Define the income group cutoffs based on the IQR\n",
    "low_cutoff = abs(q1 - 1.5 * iqr)\n",
    "high_cutoff = q3 + 1.5 * iqr\n",
    "\n",
    "# Create a new column for income group based on the 'ingresos_totales' column\n",
    "df2['grupo_ingresos'] = pd.cut(df2['ingresos_totales'], bins=[-float('inf'), low_cutoff, high_cutoff, float('inf')],\n",
    "                              labels=['ingreso bajo', 'ingreso medio', 'ingreso alto'])\n",
    "\n",
    "cols = df2.columns.tolist()\n",
    "cols = ['grupo_ingresos'] + cols[:-1]\n",
    "df2 = df2[cols]\n",
    "\n",
    "df2 = df2.drop(['ingresos_totales'], axis=1)\n",
    "\n",
    "# Print the first 10 rows of the DataFrame with the new 'income_group' column\n",
    "df2.head()"
   ]
  },
  {
   "cell_type": "code",
   "execution_count": 62,
   "metadata": {},
   "outputs": [
    {
     "name": "stdout",
     "output_type": "stream",
     "text": [
      "<class 'pandas.core.frame.DataFrame'>\n",
      "Index: 7336 entries, 0 to 14316\n",
      "Data columns (total 8 columns):\n",
      " #   Column                    Non-Null Count  Dtype   \n",
      "---  ------                    --------------  -----   \n",
      " 0   grupo_ingresos            7336 non-null   category\n",
      " 1   situacion_conyugal        7336 non-null   object  \n",
      " 2   comuna                    7336 non-null   int64   \n",
      " 3   cat_ocupacional           7336 non-null   object  \n",
      " 4   sexo                      7336 non-null   object  \n",
      " 5   edad                      7336 non-null   int64   \n",
      " 6   cantidad_hijos_nac_vivos  7336 non-null   int64   \n",
      " 7   años_escolaridad          7308 non-null   object  \n",
      "dtypes: category(1), int64(3), object(4)\n",
      "memory usage: 465.8+ KB\n"
     ]
    }
   ],
   "source": [
    "df2.info()"
   ]
  },
  {
   "cell_type": "code",
   "execution_count": 63,
   "metadata": {},
   "outputs": [],
   "source": [
    "df2['situacion_conyugal'].value_counts()\n",
    "df2.loc[df2['situacion_conyugal'].isin(['Separado/a de unión o matrimonio', 'Divorciado/a', 'Viudo/a']), 'situacion_conyugal'] = 'Soltero/a'\n",
    "df2.loc[df2['años_escolaridad'] == 'Ningun año de escolaridad aprobado', 'años_escolaridad'] = 0\n",
    "df2['años_escolaridad'] = df2['años_escolaridad'].fillna(0)\n",
    "df2['años_escolaridad'] = df2['años_escolaridad'].astype(int)"
   ]
  },
  {
   "cell_type": "code",
   "execution_count": 64,
   "metadata": {},
   "outputs": [
    {
     "data": {
      "text/plain": [
       "situacion_conyugal\n",
       "Soltero/a    3280\n",
       "Unido/a      2073\n",
       "Casado/a     1983\n",
       "Name: count, dtype: int64"
      ]
     },
     "execution_count": 64,
     "metadata": {},
     "output_type": "execute_result"
    }
   ],
   "source": [
    "df2['situacion_conyugal'].value_counts()"
   ]
  },
  {
   "cell_type": "code",
   "execution_count": 65,
   "metadata": {},
   "outputs": [],
   "source": [
    "comuna_dummies = pd.get_dummies(df2['comuna'], prefix='comuna', prefix_sep='_').astype(int)\n",
    "df2 = pd.concat([df2, comuna_dummies], axis=1)\n",
    "df2.drop('comuna', axis=1, inplace=True)\n"
   ]
  },
  {
   "cell_type": "code",
   "execution_count": 66,
   "metadata": {},
   "outputs": [],
   "source": [
    "situacion_dummies = pd.get_dummies(df2['situacion_conyugal'], prefix='situacion_conyugal', prefix_sep='_').astype(int)\n",
    "df2 = pd.concat([df2, situacion_dummies], axis=1)\n",
    "df2.drop('situacion_conyugal', axis=1, inplace=True)\n"
   ]
  },
  {
   "cell_type": "code",
   "execution_count": 67,
   "metadata": {},
   "outputs": [],
   "source": [
    "df2['sexo'] = df2['sexo'].replace({'Mujer': 0, 'Varon': 1})\n",
    "df2['sexo'] = df2['sexo'].astype(int)"
   ]
  },
  {
   "cell_type": "code",
   "execution_count": 68,
   "metadata": {},
   "outputs": [
    {
     "data": {
      "text/html": [
       "<div>\n",
       "<style scoped>\n",
       "    .dataframe tbody tr th:only-of-type {\n",
       "        vertical-align: middle;\n",
       "    }\n",
       "\n",
       "    .dataframe tbody tr th {\n",
       "        vertical-align: top;\n",
       "    }\n",
       "\n",
       "    .dataframe thead th {\n",
       "        text-align: right;\n",
       "    }\n",
       "</style>\n",
       "<table border=\"1\" class=\"dataframe\">\n",
       "  <thead>\n",
       "    <tr style=\"text-align: right;\">\n",
       "      <th></th>\n",
       "      <th>grupo_ingresos</th>\n",
       "      <th>sexo</th>\n",
       "      <th>edad</th>\n",
       "      <th>cantidad_hijos_nac_vivos</th>\n",
       "      <th>años_escolaridad</th>\n",
       "      <th>comuna_1</th>\n",
       "      <th>comuna_2</th>\n",
       "      <th>comuna_3</th>\n",
       "      <th>comuna_4</th>\n",
       "      <th>comuna_5</th>\n",
       "      <th>comuna_6</th>\n",
       "      <th>comuna_7</th>\n",
       "      <th>comuna_8</th>\n",
       "      <th>comuna_9</th>\n",
       "      <th>comuna_10</th>\n",
       "      <th>comuna_11</th>\n",
       "      <th>comuna_12</th>\n",
       "      <th>comuna_13</th>\n",
       "      <th>comuna_14</th>\n",
       "      <th>comuna_15</th>\n",
       "      <th>situacion_conyugal_Casado/a</th>\n",
       "      <th>situacion_conyugal_Soltero/a</th>\n",
       "      <th>situacion_conyugal_Unido/a</th>\n",
       "      <th>cat_ocupacional_Asalariado</th>\n",
       "      <th>cat_ocupacional_No corresponde</th>\n",
       "      <th>cat_ocupacional_Patron/empleador</th>\n",
       "      <th>cat_ocupacional_Trabajador familiar</th>\n",
       "      <th>cat_ocupacional_Trabajador por cuenta propia</th>\n",
       "    </tr>\n",
       "  </thead>\n",
       "  <tbody>\n",
       "    <tr>\n",
       "      <th>0</th>\n",
       "      <td>ingreso bajo</td>\n",
       "      <td>0</td>\n",
       "      <td>18</td>\n",
       "      <td>0</td>\n",
       "      <td>12</td>\n",
       "      <td>0</td>\n",
       "      <td>0</td>\n",
       "      <td>0</td>\n",
       "      <td>0</td>\n",
       "      <td>1</td>\n",
       "      <td>0</td>\n",
       "      <td>0</td>\n",
       "      <td>0</td>\n",
       "      <td>0</td>\n",
       "      <td>0</td>\n",
       "      <td>0</td>\n",
       "      <td>0</td>\n",
       "      <td>0</td>\n",
       "      <td>0</td>\n",
       "      <td>0</td>\n",
       "      <td>0</td>\n",
       "      <td>1</td>\n",
       "      <td>0</td>\n",
       "      <td>0</td>\n",
       "      <td>1</td>\n",
       "      <td>0</td>\n",
       "      <td>0</td>\n",
       "      <td>0</td>\n",
       "    </tr>\n",
       "    <tr>\n",
       "      <th>1</th>\n",
       "      <td>ingreso bajo</td>\n",
       "      <td>0</td>\n",
       "      <td>18</td>\n",
       "      <td>0</td>\n",
       "      <td>12</td>\n",
       "      <td>0</td>\n",
       "      <td>0</td>\n",
       "      <td>0</td>\n",
       "      <td>0</td>\n",
       "      <td>1</td>\n",
       "      <td>0</td>\n",
       "      <td>0</td>\n",
       "      <td>0</td>\n",
       "      <td>0</td>\n",
       "      <td>0</td>\n",
       "      <td>0</td>\n",
       "      <td>0</td>\n",
       "      <td>0</td>\n",
       "      <td>0</td>\n",
       "      <td>0</td>\n",
       "      <td>0</td>\n",
       "      <td>1</td>\n",
       "      <td>0</td>\n",
       "      <td>0</td>\n",
       "      <td>1</td>\n",
       "      <td>0</td>\n",
       "      <td>0</td>\n",
       "      <td>0</td>\n",
       "    </tr>\n",
       "    <tr>\n",
       "      <th>2</th>\n",
       "      <td>ingreso alto</td>\n",
       "      <td>0</td>\n",
       "      <td>50</td>\n",
       "      <td>2</td>\n",
       "      <td>17</td>\n",
       "      <td>0</td>\n",
       "      <td>1</td>\n",
       "      <td>0</td>\n",
       "      <td>0</td>\n",
       "      <td>0</td>\n",
       "      <td>0</td>\n",
       "      <td>0</td>\n",
       "      <td>0</td>\n",
       "      <td>0</td>\n",
       "      <td>0</td>\n",
       "      <td>0</td>\n",
       "      <td>0</td>\n",
       "      <td>0</td>\n",
       "      <td>0</td>\n",
       "      <td>0</td>\n",
       "      <td>0</td>\n",
       "      <td>1</td>\n",
       "      <td>0</td>\n",
       "      <td>1</td>\n",
       "      <td>0</td>\n",
       "      <td>0</td>\n",
       "      <td>0</td>\n",
       "      <td>0</td>\n",
       "    </tr>\n",
       "    <tr>\n",
       "      <th>3</th>\n",
       "      <td>ingreso bajo</td>\n",
       "      <td>0</td>\n",
       "      <td>18</td>\n",
       "      <td>1</td>\n",
       "      <td>8</td>\n",
       "      <td>0</td>\n",
       "      <td>0</td>\n",
       "      <td>0</td>\n",
       "      <td>0</td>\n",
       "      <td>0</td>\n",
       "      <td>0</td>\n",
       "      <td>0</td>\n",
       "      <td>0</td>\n",
       "      <td>0</td>\n",
       "      <td>1</td>\n",
       "      <td>0</td>\n",
       "      <td>0</td>\n",
       "      <td>0</td>\n",
       "      <td>0</td>\n",
       "      <td>0</td>\n",
       "      <td>0</td>\n",
       "      <td>0</td>\n",
       "      <td>1</td>\n",
       "      <td>0</td>\n",
       "      <td>1</td>\n",
       "      <td>0</td>\n",
       "      <td>0</td>\n",
       "      <td>0</td>\n",
       "    </tr>\n",
       "    <tr>\n",
       "      <th>4</th>\n",
       "      <td>ingreso medio</td>\n",
       "      <td>1</td>\n",
       "      <td>21</td>\n",
       "      <td>0</td>\n",
       "      <td>12</td>\n",
       "      <td>0</td>\n",
       "      <td>0</td>\n",
       "      <td>0</td>\n",
       "      <td>0</td>\n",
       "      <td>0</td>\n",
       "      <td>0</td>\n",
       "      <td>0</td>\n",
       "      <td>0</td>\n",
       "      <td>0</td>\n",
       "      <td>1</td>\n",
       "      <td>0</td>\n",
       "      <td>0</td>\n",
       "      <td>0</td>\n",
       "      <td>0</td>\n",
       "      <td>0</td>\n",
       "      <td>0</td>\n",
       "      <td>0</td>\n",
       "      <td>1</td>\n",
       "      <td>1</td>\n",
       "      <td>0</td>\n",
       "      <td>0</td>\n",
       "      <td>0</td>\n",
       "      <td>0</td>\n",
       "    </tr>\n",
       "  </tbody>\n",
       "</table>\n",
       "</div>"
      ],
      "text/plain": [
       "  grupo_ingresos  sexo  edad  cantidad_hijos_nac_vivos  años_escolaridad   \n",
       "0   ingreso bajo     0    18                         0                12  \\\n",
       "1   ingreso bajo     0    18                         0                12   \n",
       "2   ingreso alto     0    50                         2                17   \n",
       "3   ingreso bajo     0    18                         1                 8   \n",
       "4  ingreso medio     1    21                         0                12   \n",
       "\n",
       "   comuna_1  comuna_2  comuna_3  comuna_4  comuna_5  comuna_6  comuna_7   \n",
       "0         0         0         0         0         1         0         0  \\\n",
       "1         0         0         0         0         1         0         0   \n",
       "2         0         1         0         0         0         0         0   \n",
       "3         0         0         0         0         0         0         0   \n",
       "4         0         0         0         0         0         0         0   \n",
       "\n",
       "   comuna_8  comuna_9  comuna_10  comuna_11  comuna_12  comuna_13  comuna_14   \n",
       "0         0         0          0          0          0          0          0  \\\n",
       "1         0         0          0          0          0          0          0   \n",
       "2         0         0          0          0          0          0          0   \n",
       "3         0         0          1          0          0          0          0   \n",
       "4         0         0          1          0          0          0          0   \n",
       "\n",
       "   comuna_15  situacion_conyugal_Casado/a  situacion_conyugal_Soltero/a   \n",
       "0          0                            0                             1  \\\n",
       "1          0                            0                             1   \n",
       "2          0                            0                             1   \n",
       "3          0                            0                             0   \n",
       "4          0                            0                             0   \n",
       "\n",
       "   situacion_conyugal_Unido/a  cat_ocupacional_Asalariado   \n",
       "0                           0                           0  \\\n",
       "1                           0                           0   \n",
       "2                           0                           1   \n",
       "3                           1                           0   \n",
       "4                           1                           1   \n",
       "\n",
       "   cat_ocupacional_No corresponde  cat_ocupacional_Patron/empleador   \n",
       "0                               1                                 0  \\\n",
       "1                               1                                 0   \n",
       "2                               0                                 0   \n",
       "3                               1                                 0   \n",
       "4                               0                                 0   \n",
       "\n",
       "   cat_ocupacional_Trabajador familiar   \n",
       "0                                    0  \\\n",
       "1                                    0   \n",
       "2                                    0   \n",
       "3                                    0   \n",
       "4                                    0   \n",
       "\n",
       "   cat_ocupacional_Trabajador por cuenta propia  \n",
       "0                                             0  \n",
       "1                                             0  \n",
       "2                                             0  \n",
       "3                                             0  \n",
       "4                                             0  "
      ]
     },
     "execution_count": 68,
     "metadata": {},
     "output_type": "execute_result"
    }
   ],
   "source": [
    "ocupacion_dummies = pd.get_dummies(df2['cat_ocupacional'], prefix='cat_ocupacional', prefix_sep='_').astype(int)\n",
    "df2 = pd.concat([df2, ocupacion_dummies], axis=1)\n",
    "df2.drop('cat_ocupacional', axis=1, inplace=True)\n",
    "df2 = df2.reset_index(drop=True)\n",
    "df2.head()"
   ]
  },
  {
   "cell_type": "code",
   "execution_count": 69,
   "metadata": {},
   "outputs": [
    {
     "data": {
      "text/plain": [
       "Index(['grupo_ingresos', 'sexo', 'edad', 'cantidad_hijos_nac_vivos',\n",
       "       'años_escolaridad', 'comuna_1', 'comuna_2', 'comuna_3', 'comuna_4',\n",
       "       'comuna_5', 'comuna_6', 'comuna_7', 'comuna_8', 'comuna_9', 'comuna_10',\n",
       "       'comuna_11', 'comuna_12', 'comuna_13', 'comuna_14', 'comuna_15',\n",
       "       'situacion_conyugal_Casado/a', 'situacion_conyugal_Soltero/a',\n",
       "       'situacion_conyugal_Unido/a', 'cat_ocupacional_Asalariado',\n",
       "       'cat_ocupacional_No corresponde', 'cat_ocupacional_Patron/empleador',\n",
       "       'cat_ocupacional_Trabajador familiar',\n",
       "       'cat_ocupacional_Trabajador por cuenta propia'],\n",
       "      dtype='object')"
      ]
     },
     "execution_count": 69,
     "metadata": {},
     "output_type": "execute_result"
    }
   ],
   "source": [
    "df2.columns"
   ]
  },
  {
   "cell_type": "code",
   "execution_count": 70,
   "metadata": {},
   "outputs": [],
   "source": [
    "#x = df2.iloc[:, 1:] \n",
    "x = df2[['edad', 'años_escolaridad', 'cantidad_hijos_nac_vivos', 'sexo', 'cat_ocupacional_Patron/empleador']]\n",
    "y = df2.iloc[:, 0] "
   ]
  },
  {
   "cell_type": "code",
   "execution_count": 71,
   "metadata": {},
   "outputs": [
    {
     "data": {
      "text/plain": [
       "grupo_ingresos\n",
       "ingreso medio    4729\n",
       "ingreso bajo     2005\n",
       "ingreso alto      602\n",
       "Name: count, dtype: int64"
      ]
     },
     "execution_count": 71,
     "metadata": {},
     "output_type": "execute_result"
    }
   ],
   "source": [
    "df2['grupo_ingresos'].value_counts()"
   ]
  },
  {
   "cell_type": "code",
   "execution_count": 72,
   "metadata": {},
   "outputs": [],
   "source": [
    "from sklearn.preprocessing import LabelEncoder\n",
    "\n",
    "# Initialize a LabelEncoder object\n",
    "label_encoder = LabelEncoder()\n",
    "\n",
    "# Encode the categorical target variable as integers\n",
    "y = label_encoder.fit_transform(y)"
   ]
  },
  {
   "cell_type": "code",
   "execution_count": 73,
   "metadata": {},
   "outputs": [
    {
     "name": "stdout",
     "output_type": "stream",
     "text": [
      "0    4729\n",
      "1    4729\n",
      "2    4729\n",
      "Name: count, dtype: int64\n"
     ]
    }
   ],
   "source": [
    "from imblearn.over_sampling import SMOTE\n",
    "from imblearn.under_sampling import RandomUnderSampler\n",
    "\n",
    "# Define the resampling strategy\n",
    "over = SMOTE(sampling_strategy='auto')\n",
    "under = RandomUnderSampler(sampling_strategy='majority')\n",
    "\n",
    "# Resample the data\n",
    "x_resampled, y_resampled = over.fit_resample(x, y)\n",
    "x_resampled, y_resampled = under.fit_resample(x_resampled, y_resampled)\n",
    "\n",
    "# Check the class distribution after resampling\n",
    "print(pd.Series(y_resampled).value_counts())"
   ]
  },
  {
   "cell_type": "code",
   "execution_count": 74,
   "metadata": {},
   "outputs": [
    {
     "name": "stdout",
     "output_type": "stream",
     "text": [
      "Training set shape: (9930, 5) (9930,)\n",
      "Validation set shape: (1419, 5) (1419,)\n",
      "Test set shape: (2838, 5) (2838,)\n"
     ]
    }
   ],
   "source": [
    "from sklearn.model_selection import train_test_split\n",
    "# Split into train and test\n",
    "x_train, x_test, y_train, y_test = train_test_split(x_resampled, y_resampled, test_size=0.2, random_state=42)\n",
    "\n",
    "# Split train set into train and validation\n",
    "x_train, x_val, y_train, y_val = train_test_split(x_train, y_train, test_size=0.125, random_state=42)\n",
    "\n",
    "print(\"Training set shape:\", x_train.shape, y_train.shape)\n",
    "print(\"Validation set shape:\", x_val.shape, y_val.shape)\n",
    "print(\"Test set shape:\", x_test.shape, y_test.shape)\n"
   ]
  },
  {
   "cell_type": "code",
   "execution_count": 75,
   "metadata": {},
   "outputs": [
    {
     "name": "stdout",
     "output_type": "stream",
     "text": [
      "Random Forest F1 score:  0.66592\n"
     ]
    }
   ],
   "source": [
    "from sklearn.model_selection import cross_val_score\n",
    "from sklearn.ensemble import RandomForestClassifier\n",
    "from sklearn.metrics import f1_score\n",
    "rf_Model = RandomForestClassifier()\n",
    "f1_scores = cross_val_score(rf_Model, x_train, y_train, cv=5, scoring='f1_macro')\n",
    "\n",
    "# Print the mean F1 score rounded to 5 decimal places\n",
    "print(\"Random Forest F1 score: \", np.round(np.mean(f1_scores), 5))"
   ]
  },
  {
   "cell_type": "code",
   "execution_count": 76,
   "metadata": {},
   "outputs": [
    {
     "name": "stdout",
     "output_type": "stream",
     "text": [
      "Gradient Boosting F1 score:  0.63758\n"
     ]
    }
   ],
   "source": [
    "from sklearn.ensemble import GradientBoostingClassifier\n",
    "\n",
    "# Initialize a Gradient Boosting classification model\n",
    "gbc = GradientBoostingClassifier()\n",
    "\n",
    "# Calculate the F1 score using cross-validation\n",
    "f1_scores = cross_val_score(gbc, x_train, y_train, cv=5, scoring='f1_macro')\n",
    "\n",
    "# Print the mean F1 score rounded to 5 decimal places\n",
    "print(\"Gradient Boosting F1 score: \", np.round(np.mean(f1_scores), 5))"
   ]
  },
  {
   "cell_type": "code",
   "execution_count": 77,
   "metadata": {},
   "outputs": [
    {
     "name": "stdout",
     "output_type": "stream",
     "text": [
      "XGBoost F1 score:  0.65989\n"
     ]
    }
   ],
   "source": [
    "xgb = xgboost.XGBClassifier()\n",
    "\n",
    "# Calculate the F1 score using cross-validation\n",
    "f1_scores = cross_val_score(xgb, x_train, y_train, cv=5, scoring='f1_macro')\n",
    "\n",
    "# Print the mean F1 score rounded to 5 decimal places\n",
    "print(\"XGBoost F1 score: \", np.round(np.mean(f1_scores), 5))"
   ]
  },
  {
   "cell_type": "code",
   "execution_count": 78,
   "metadata": {},
   "outputs": [],
   "source": [
    "rf_Model.fit(x_train, y_train)\n",
    "gbc.fit(x_train, y_train)\n",
    "xgb.fit(x_train, y_train)\n",
    "\n",
    "rf_yhat = rf_Model.predict(x_test)\n",
    "gbc_yhat = gbc.predict(x_test)\n",
    "xgb_yhat = xgb.predict(x_test)"
   ]
  },
  {
   "cell_type": "code",
   "execution_count": 79,
   "metadata": {},
   "outputs": [
    {
     "name": "stdout",
     "output_type": "stream",
     "text": [
      "Random forest classifier F1 score: 0.68\n",
      "Gradient booster classifier F1 score: 0.65\n",
      "XGBoost classifier F1 score: 0.68\n"
     ]
    }
   ],
   "source": [
    "print(\"Random forest classifier F1 score: %.2f\" % f1_score(y_test, rf_yhat, average='macro'))\n",
    "print(\"Gradient booster classifier F1 score: %.2f\" % f1_score(y_test, gbc_yhat, average='macro'))\n",
    "print(\"XGBoost classifier F1 score: %.2f\" % f1_score(y_test, xgb_yhat, average='macro'))"
   ]
  },
  {
   "cell_type": "code",
   "execution_count": 80,
   "metadata": {},
   "outputs": [
    {
     "name": "stdout",
     "output_type": "stream",
     "text": [
      "https://app.neptune.ai/ivanv21/modelo-buenos-aires/e/BA-20\n"
     ]
    }
   ],
   "source": [
    "import neptune\n",
    "run = neptune.init_run(\n",
    "    project=\"ivanv21/modelo-buenos-aires\",\n",
    "    api_token=\"eyJhcGlfYWRkcmVzcyI6Imh0dHBzOi8vYXBwLm5lcHR1bmUuYWkiLCJhcGlfdXJsIjoiaHR0cHM6Ly9hcHAubmVwdHVuZS5haSIsImFwaV9rZXkiOiJlN2NhNmY0YS00MjY3LTQ5MGUtOWY3OC1iM2VmNzZhMmQ2MjUifQ==\",\n",
    ") \n"
   ]
  },
  {
   "cell_type": "code",
   "execution_count": 81,
   "metadata": {},
   "outputs": [],
   "source": [
    "def objective(trial):\n",
    "    # Set hyperparameters to search\n",
    "    params = {\n",
    "        'max_depth': trial.suggest_int('max_depth', 2, 10),\n",
    "        'learning_rate': trial.suggest_float('learning_rate', 0.001, 0.1),\n",
    "        'subsample': trial.suggest_float('subsample', 0.5, 1.0),\n",
    "        'colsample_bytree': trial.suggest_float('colsample_bytree', 0.1, 1.0),\n",
    "        'gamma': trial.suggest_float('gamma', 0, 1),\n",
    "        'min_child_weight': trial.suggest_int('min_child_weight', 1, 10),\n",
    "        'objective': 'multi:softmax',\n",
    "        'num_class': len(np.unique(y_train)),\n",
    "        'n_jobs': -1,\n",
    "        'verbosity': 0,\n",
    "        'random_state': 42\n",
    "    }\n",
    "    \n",
    "    # Train XGB classifier with hyperparameters\n",
    "    xgb_clf = xgboost.XGBClassifier(**params)\n",
    "    \n",
    "    # Use cross-validation to estimate performance on validation set\n",
    "    f1_scores = cross_val_score(xgb_clf, x_train, y_train, cv=5, scoring='f1_weighted')\n",
    "    f1 = f1_scores.mean()\n",
    "    \n",
    "    # Log F1 score and hyperparameters to Neptune\n",
    "    run[f'trial_{trial.number}/params'] = params\n",
    "    run[f'trial_{trial.number}/f1'] = f1\n",
    "    \n",
    "    return f1  "
   ]
  },
  {
   "cell_type": "code",
   "execution_count": 82,
   "metadata": {},
   "outputs": [
    {
     "name": "stderr",
     "output_type": "stream",
     "text": [
      "\u001b[32m[I 2023-04-20 10:30:04,221]\u001b[0m A new study created in memory with name: no-name-2714ef52-035b-4d72-bb3d-1bff82e38394\u001b[0m\n",
      "\u001b[32m[I 2023-04-20 10:30:05,489]\u001b[0m Trial 0 finished with value: 0.6371775438742701 and parameters: {'max_depth': 6, 'learning_rate': 0.05260792174706722, 'subsample': 0.5711834120215897, 'colsample_bytree': 0.5547560890832799, 'gamma': 0.03599943011444362, 'min_child_weight': 4}. Best is trial 0 with value: 0.6371775438742701.\u001b[0m\n",
      "\u001b[32m[I 2023-04-20 10:30:06,815]\u001b[0m Trial 1 finished with value: 0.6447903602125966 and parameters: {'max_depth': 7, 'learning_rate': 0.07583581884301202, 'subsample': 0.9966855625288242, 'colsample_bytree': 0.7212191351353949, 'gamma': 0.12629375879720162, 'min_child_weight': 7}. Best is trial 1 with value: 0.6447903602125966.\u001b[0m\n",
      "\u001b[32m[I 2023-04-20 10:30:08,113]\u001b[0m Trial 2 finished with value: 0.6356928293720603 and parameters: {'max_depth': 6, 'learning_rate': 0.029296285202684746, 'subsample': 0.8391362491514214, 'colsample_bytree': 0.8338489956614948, 'gamma': 0.34605555371354313, 'min_child_weight': 3}. Best is trial 1 with value: 0.6447903602125966.\u001b[0m\n",
      "\u001b[32m[I 2023-04-20 10:30:08,920]\u001b[0m Trial 3 finished with value: 0.6314206211484164 and parameters: {'max_depth': 5, 'learning_rate': 0.08449851682493711, 'subsample': 0.7706330060012399, 'colsample_bytree': 0.11143183650557366, 'gamma': 0.24198054408268288, 'min_child_weight': 2}. Best is trial 1 with value: 0.6447903602125966.\u001b[0m\n",
      "\u001b[32m[I 2023-04-20 10:30:09,728]\u001b[0m Trial 4 finished with value: 0.6271436487144497 and parameters: {'max_depth': 3, 'learning_rate': 0.07079910017708521, 'subsample': 0.7171844131967269, 'colsample_bytree': 0.41747805050232634, 'gamma': 0.5783342446728471, 'min_child_weight': 3}. Best is trial 1 with value: 0.6447903602125966.\u001b[0m\n",
      "\u001b[32m[I 2023-04-20 10:30:11,161]\u001b[0m Trial 5 finished with value: 0.6313335131406994 and parameters: {'max_depth': 9, 'learning_rate': 0.003999270951743888, 'subsample': 0.676412678200156, 'colsample_bytree': 0.4087534889260448, 'gamma': 0.7279897490429138, 'min_child_weight': 1}. Best is trial 1 with value: 0.6447903602125966.\u001b[0m\n",
      "\u001b[32m[I 2023-04-20 10:30:12,121]\u001b[0m Trial 6 finished with value: 0.6299599253412789 and parameters: {'max_depth': 10, 'learning_rate': 0.06707126269371433, 'subsample': 0.7168888189644389, 'colsample_bytree': 0.21886621194679035, 'gamma': 0.746231973363269, 'min_child_weight': 1}. Best is trial 1 with value: 0.6447903602125966.\u001b[0m\n",
      "\u001b[32m[I 2023-04-20 10:30:12,989]\u001b[0m Trial 7 finished with value: 0.63063716647776 and parameters: {'max_depth': 3, 'learning_rate': 0.0960672672043789, 'subsample': 0.6240592673808256, 'colsample_bytree': 0.9339607393675479, 'gamma': 0.4277862572309473, 'min_child_weight': 8}. Best is trial 1 with value: 0.6447903602125966.\u001b[0m\n",
      "\u001b[32m[I 2023-04-20 10:30:13,912]\u001b[0m Trial 8 finished with value: 0.620999283312209 and parameters: {'max_depth': 5, 'learning_rate': 0.009135347486869554, 'subsample': 0.5302137472459836, 'colsample_bytree': 0.21242024150351377, 'gamma': 0.47582202186120126, 'min_child_weight': 1}. Best is trial 1 with value: 0.6447903602125966.\u001b[0m\n",
      "\u001b[32m[I 2023-04-20 10:30:14,591]\u001b[0m Trial 9 finished with value: 0.6223119946981311 and parameters: {'max_depth': 2, 'learning_rate': 0.07723773119082988, 'subsample': 0.6496983322057359, 'colsample_bytree': 0.1707810905488364, 'gamma': 0.9804585803664578, 'min_child_weight': 4}. Best is trial 1 with value: 0.6447903602125966.\u001b[0m\n",
      "\u001b[32m[I 2023-04-20 10:30:16,051]\u001b[0m Trial 10 finished with value: 0.6473984232007839 and parameters: {'max_depth': 8, 'learning_rate': 0.05080974850281496, 'subsample': 0.9874662519871742, 'colsample_bytree': 0.7516528937597157, 'gamma': 0.0059376938194525275, 'min_child_weight': 10}. Best is trial 10 with value: 0.6473984232007839.\u001b[0m\n",
      "\u001b[32m[I 2023-04-20 10:30:17,552]\u001b[0m Trial 11 finished with value: 0.647086122901546 and parameters: {'max_depth': 8, 'learning_rate': 0.0494128238059937, 'subsample': 0.977628904899611, 'colsample_bytree': 0.7482555010070059, 'gamma': 0.0031540723295943943, 'min_child_weight': 10}. Best is trial 10 with value: 0.6473984232007839.\u001b[0m\n",
      "\u001b[32m[I 2023-04-20 10:30:19,305]\u001b[0m Trial 12 finished with value: 0.6469638906311177 and parameters: {'max_depth': 8, 'learning_rate': 0.04697728155774864, 'subsample': 0.9696366296995803, 'colsample_bytree': 0.7251100123583529, 'gamma': 0.02885243779761, 'min_child_weight': 10}. Best is trial 10 with value: 0.6473984232007839.\u001b[0m\n",
      "\u001b[32m[I 2023-04-20 10:30:21,197]\u001b[0m Trial 13 finished with value: 0.6519970352675861 and parameters: {'max_depth': 8, 'learning_rate': 0.04832968528481878, 'subsample': 0.9237369608100259, 'colsample_bytree': 0.9051299937020665, 'gamma': 0.18359956307261113, 'min_child_weight': 10}. Best is trial 13 with value: 0.6519970352675861.\u001b[0m\n",
      "\u001b[32m[I 2023-04-20 10:30:23,532]\u001b[0m Trial 14 finished with value: 0.6556387115943452 and parameters: {'max_depth': 10, 'learning_rate': 0.03273210389982217, 'subsample': 0.8979477760909876, 'colsample_bytree': 0.9636371729492452, 'gamma': 0.2134002604960032, 'min_child_weight': 8}. Best is trial 14 with value: 0.6556387115943452.\u001b[0m\n",
      "\u001b[32m[I 2023-04-20 10:30:25,707]\u001b[0m Trial 15 finished with value: 0.6553830803802044 and parameters: {'max_depth': 10, 'learning_rate': 0.03094689794968755, 'subsample': 0.8867955830827727, 'colsample_bytree': 0.9976952913860213, 'gamma': 0.2276193995768864, 'min_child_weight': 8}. Best is trial 14 with value: 0.6556387115943452.\u001b[0m\n",
      "\u001b[32m[I 2023-04-20 10:30:28,022]\u001b[0m Trial 16 finished with value: 0.6564859494288208 and parameters: {'max_depth': 10, 'learning_rate': 0.025100666258729944, 'subsample': 0.872113880737526, 'colsample_bytree': 0.9689316368755954, 'gamma': 0.2792359945335001, 'min_child_weight': 7}. Best is trial 16 with value: 0.6564859494288208.\u001b[0m\n",
      "\u001b[32m[I 2023-04-20 10:30:30,468]\u001b[0m Trial 17 finished with value: 0.6571461596768641 and parameters: {'max_depth': 10, 'learning_rate': 0.022257077117526898, 'subsample': 0.8101074217094812, 'colsample_bytree': 0.9574577008856264, 'gamma': 0.3206031006300387, 'min_child_weight': 6}. Best is trial 17 with value: 0.6571461596768641.\u001b[0m\n",
      "\u001b[32m[I 2023-04-20 10:30:32,892]\u001b[0m Trial 18 finished with value: 0.6490583412743304 and parameters: {'max_depth': 9, 'learning_rate': 0.014958850740103497, 'subsample': 0.8070329721566167, 'colsample_bytree': 0.8773230067951827, 'gamma': 0.3256217858241634, 'min_child_weight': 6}. Best is trial 17 with value: 0.6571461596768641.\u001b[0m\n",
      "\u001b[32m[I 2023-04-20 10:30:35,150]\u001b[0m Trial 19 finished with value: 0.6515931392612385 and parameters: {'max_depth': 9, 'learning_rate': 0.01829393104946047, 'subsample': 0.8386802044976639, 'colsample_bytree': 0.9997088851233773, 'gamma': 0.3521357047724808, 'min_child_weight': 6}. Best is trial 17 with value: 0.6571461596768641.\u001b[0m\n",
      "\u001b[32m[I 2023-04-20 10:30:36,950]\u001b[0m Trial 20 finished with value: 0.6404163625295183 and parameters: {'max_depth': 7, 'learning_rate': 0.021869590570660277, 'subsample': 0.7977516075151275, 'colsample_bytree': 0.8234844728943639, 'gamma': 0.5406991883628666, 'min_child_weight': 5}. Best is trial 17 with value: 0.6571461596768641.\u001b[0m\n",
      "\u001b[32m[I 2023-04-20 10:30:39,117]\u001b[0m Trial 21 finished with value: 0.6572736968089353 and parameters: {'max_depth': 10, 'learning_rate': 0.03643938437529649, 'subsample': 0.8597691415435073, 'colsample_bytree': 0.9364425801665821, 'gamma': 0.14417846951125182, 'min_child_weight': 8}. Best is trial 21 with value: 0.6572736968089353.\u001b[0m\n",
      "\u001b[32m[I 2023-04-20 10:30:41,277]\u001b[0m Trial 22 finished with value: 0.646278894266908 and parameters: {'max_depth': 10, 'learning_rate': 0.0010318082338710982, 'subsample': 0.8581821045702448, 'colsample_bytree': 0.9032200598779963, 'gamma': 0.11106923240402819, 'min_child_weight': 7}. Best is trial 21 with value: 0.6572736968089353.\u001b[0m\n",
      "\u001b[32m[I 2023-04-20 10:30:43,285]\u001b[0m Trial 23 finished with value: 0.6538854230017008 and parameters: {'max_depth': 9, 'learning_rate': 0.03606491583380722, 'subsample': 0.766159009426685, 'colsample_bytree': 0.8341378114575706, 'gamma': 0.2800809212035633, 'min_child_weight': 7}. Best is trial 21 with value: 0.6572736968089353.\u001b[0m\n",
      "\u001b[32m[I 2023-04-20 10:30:45,387]\u001b[0m Trial 24 finished with value: 0.6553405954736374 and parameters: {'max_depth': 10, 'learning_rate': 0.026325073960330833, 'subsample': 0.9296097987448197, 'colsample_bytree': 0.9964885618171158, 'gamma': 0.1487414663301007, 'min_child_weight': 9}. Best is trial 21 with value: 0.6572736968089353.\u001b[0m\n",
      "\u001b[32m[I 2023-04-20 10:30:47,406]\u001b[0m Trial 25 finished with value: 0.6510538402913562 and parameters: {'max_depth': 9, 'learning_rate': 0.013460182646413528, 'subsample': 0.8093880171015773, 'colsample_bytree': 0.9237086272867077, 'gamma': 0.27961879549823054, 'min_child_weight': 5}. Best is trial 21 with value: 0.6572736968089353.\u001b[0m\n",
      "\u001b[32m[I 2023-04-20 10:30:49,511]\u001b[0m Trial 26 finished with value: 0.662177026444291 and parameters: {'max_depth': 10, 'learning_rate': 0.03871325584300633, 'subsample': 0.8795933316837485, 'colsample_bytree': 0.8124186985814557, 'gamma': 0.41148400463348334, 'min_child_weight': 6}. Best is trial 26 with value: 0.662177026444291.\u001b[0m\n",
      "\u001b[32m[I 2023-04-20 10:30:51,001]\u001b[0m Trial 27 finished with value: 0.6420265789636532 and parameters: {'max_depth': 7, 'learning_rate': 0.0402082407283496, 'subsample': 0.8413425696009992, 'colsample_bytree': 0.7972080402124828, 'gamma': 0.4220998036041048, 'min_child_weight': 6}. Best is trial 26 with value: 0.662177026444291.\u001b[0m\n",
      "\u001b[32m[I 2023-04-20 10:30:53,006]\u001b[0m Trial 28 finished with value: 0.6543720310489861 and parameters: {'max_depth': 9, 'learning_rate': 0.03884369706523236, 'subsample': 0.9171337795667507, 'colsample_bytree': 0.8673671112114831, 'gamma': 0.39213245056403834, 'min_child_weight': 9}. Best is trial 26 with value: 0.662177026444291.\u001b[0m\n",
      "\u001b[32m[I 2023-04-20 10:30:54,452]\u001b[0m Trial 29 finished with value: 0.6417706672493899 and parameters: {'max_depth': 6, 'learning_rate': 0.06005039692977386, 'subsample': 0.8823067945113182, 'colsample_bytree': 0.6713264239521075, 'gamma': 0.10919156245623513, 'min_child_weight': 4}. Best is trial 26 with value: 0.662177026444291.\u001b[0m\n",
      "\u001b[32m[I 2023-04-20 10:30:56,358]\u001b[0m Trial 30 finished with value: 0.6577474587808115 and parameters: {'max_depth': 10, 'learning_rate': 0.03941448787553074, 'subsample': 0.95086800835931, 'colsample_bytree': 0.6372259525794153, 'gamma': 0.10526315688157098, 'min_child_weight': 5}. Best is trial 26 with value: 0.662177026444291.\u001b[0m\n",
      "\u001b[32m[I 2023-04-20 10:30:58,323]\u001b[0m Trial 31 finished with value: 0.6592603210302139 and parameters: {'max_depth': 10, 'learning_rate': 0.042191241673163966, 'subsample': 0.9187134256737931, 'colsample_bytree': 0.6523884831362085, 'gamma': 0.0656814455951295, 'min_child_weight': 5}. Best is trial 26 with value: 0.662177026444291.\u001b[0m\n",
      "\u001b[32m[I 2023-04-20 10:31:00,058]\u001b[0m Trial 32 finished with value: 0.6565991675922718 and parameters: {'max_depth': 9, 'learning_rate': 0.043281167775488606, 'subsample': 0.9489640058493134, 'colsample_bytree': 0.6554550880864343, 'gamma': 0.08840634761906097, 'min_child_weight': 5}. Best is trial 26 with value: 0.662177026444291.\u001b[0m\n",
      "\u001b[32m[I 2023-04-20 10:31:01,901]\u001b[0m Trial 33 finished with value: 0.6622154379146339 and parameters: {'max_depth': 10, 'learning_rate': 0.056268496127586144, 'subsample': 0.9379210022758177, 'colsample_bytree': 0.6304807460064481, 'gamma': 0.08574317946202759, 'min_child_weight': 3}. Best is trial 33 with value: 0.6622154379146339.\u001b[0m\n",
      "\u001b[32m[I 2023-04-20 10:31:03,158]\u001b[0m Trial 34 finished with value: 0.6451163814205024 and parameters: {'max_depth': 8, 'learning_rate': 0.05552838757233636, 'subsample': 0.9975815886215053, 'colsample_bytree': 0.5997828590377685, 'gamma': 0.07271551748427874, 'min_child_weight': 4}. Best is trial 33 with value: 0.6622154379146339.\u001b[0m\n",
      "\u001b[32m[I 2023-04-20 10:31:04,577]\u001b[0m Trial 35 finished with value: 0.6455327587790967 and parameters: {'max_depth': 9, 'learning_rate': 0.04365337885400375, 'subsample': 0.9500514671549641, 'colsample_bytree': 0.5559093559787842, 'gamma': 0.20162553962659058, 'min_child_weight': 3}. Best is trial 33 with value: 0.6622154379146339.\u001b[0m\n",
      "\u001b[32m[I 2023-04-20 10:31:06,005]\u001b[0m Trial 36 finished with value: 0.646136157264557 and parameters: {'max_depth': 7, 'learning_rate': 0.056014888301171184, 'subsample': 0.9432319681893565, 'colsample_bytree': 0.6740604512737041, 'gamma': 0.06783371374813774, 'min_child_weight': 2}. Best is trial 33 with value: 0.6622154379146339.\u001b[0m\n",
      "\u001b[32m[I 2023-04-20 10:31:07,102]\u001b[0m Trial 37 finished with value: 0.632638438202563 and parameters: {'max_depth': 5, 'learning_rate': 0.03246670195994551, 'subsample': 0.908014047843372, 'colsample_bytree': 0.6036326461428498, 'gamma': 0.15954863899967628, 'min_child_weight': 3}. Best is trial 33 with value: 0.6622154379146339.\u001b[0m\n",
      "\u001b[32m[I 2023-04-20 10:31:08,502]\u001b[0m Trial 38 finished with value: 0.6478473646147606 and parameters: {'max_depth': 10, 'learning_rate': 0.06157607367305314, 'subsample': 0.9599197815103099, 'colsample_bytree': 0.47585767322478467, 'gamma': 0.07238100900298344, 'min_child_weight': 5}. Best is trial 33 with value: 0.6622154379146339.\u001b[0m\n",
      "\u001b[32m[I 2023-04-20 10:31:10,370]\u001b[0m Trial 39 finished with value: 0.6599915149169311 and parameters: {'max_depth': 10, 'learning_rate': 0.042486627900857006, 'subsample': 0.9247836213876257, 'colsample_bytree': 0.7894463809940486, 'gamma': 0.04251652797151306, 'min_child_weight': 2}. Best is trial 33 with value: 0.6622154379146339.\u001b[0m\n",
      "\u001b[32m[I 2023-04-20 10:31:11,309]\u001b[0m Trial 40 finished with value: 0.629914036973277 and parameters: {'max_depth': 4, 'learning_rate': 0.044919682130170176, 'subsample': 0.9061012539069188, 'colsample_bytree': 0.7917016220499894, 'gamma': 0.047278016101991525, 'min_child_weight': 2}. Best is trial 33 with value: 0.6622154379146339.\u001b[0m\n",
      "\u001b[32m[I 2023-04-20 10:31:13,203]\u001b[0m Trial 41 finished with value: 0.6587385244117866 and parameters: {'max_depth': 10, 'learning_rate': 0.040140533633887865, 'subsample': 0.9358437058495035, 'colsample_bytree': 0.6873790009111456, 'gamma': 0.13798278974485143, 'min_child_weight': 2}. Best is trial 33 with value: 0.6622154379146339.\u001b[0m\n",
      "\u001b[32m[I 2023-04-20 10:31:14,907]\u001b[0m Trial 42 finished with value: 0.6576592200702265 and parameters: {'max_depth': 9, 'learning_rate': 0.05353954695505391, 'subsample': 0.9992614637756634, 'colsample_bytree': 0.7137741718498578, 'gamma': 0.004075298528535429, 'min_child_weight': 2}. Best is trial 33 with value: 0.6622154379146339.\u001b[0m\n",
      "\u001b[32m[I 2023-04-20 10:31:16,884]\u001b[0m Trial 43 finished with value: 0.6606842259737278 and parameters: {'max_depth': 10, 'learning_rate': 0.04260134285595812, 'subsample': 0.9149940591107457, 'colsample_bytree': 0.7099868037576771, 'gamma': 0.17886506239402952, 'min_child_weight': 1}. Best is trial 33 with value: 0.6622154379146339.\u001b[0m\n",
      "\u001b[32m[I 2023-04-20 10:31:18,707]\u001b[0m Trial 44 finished with value: 0.6583233700695654 and parameters: {'max_depth': 9, 'learning_rate': 0.051094053160266543, 'subsample': 0.8957827633158181, 'colsample_bytree': 0.766825329713348, 'gamma': 0.054222751066651594, 'min_child_weight': 1}. Best is trial 33 with value: 0.6622154379146339.\u001b[0m\n",
      "\u001b[32m[I 2023-04-20 10:31:20,292]\u001b[0m Trial 45 finished with value: 0.6537023143389309 and parameters: {'max_depth': 8, 'learning_rate': 0.046969731937003725, 'subsample': 0.92522938395072, 'colsample_bytree': 0.7204885661746943, 'gamma': 0.1855329225708772, 'min_child_weight': 1}. Best is trial 33 with value: 0.6622154379146339.\u001b[0m\n",
      "\u001b[32m[I 2023-04-20 10:31:22,102]\u001b[0m Trial 46 finished with value: 0.6555528310263601 and parameters: {'max_depth': 10, 'learning_rate': 0.03515482056608364, 'subsample': 0.9671271747546676, 'colsample_bytree': 0.7815920860991763, 'gamma': 0.23065129704544163, 'min_child_weight': 3}. Best is trial 33 with value: 0.6622154379146339.\u001b[0m\n",
      "\u001b[32m[I 2023-04-20 10:31:23,887]\u001b[0m Trial 47 finished with value: 0.6542810459030294 and parameters: {'max_depth': 10, 'learning_rate': 0.029108099127538357, 'subsample': 0.971883703603988, 'colsample_bytree': 0.7293499336912764, 'gamma': 0.03730551753519157, 'min_child_weight': 4}. Best is trial 33 with value: 0.6622154379146339.\u001b[0m\n",
      "\u001b[32m[I 2023-04-20 10:31:25,597]\u001b[0m Trial 48 finished with value: 0.6558061402838901 and parameters: {'max_depth': 9, 'learning_rate': 0.04343529363250348, 'subsample': 0.9124871474460673, 'colsample_bytree': 0.7014031928388708, 'gamma': 0.17141675718306254, 'min_child_weight': 2}. Best is trial 33 with value: 0.6622154379146339.\u001b[0m\n",
      "\u001b[32m[I 2023-04-20 10:31:27,186]\u001b[0m Trial 49 finished with value: 0.6527552116717779 and parameters: {'max_depth': 8, 'learning_rate': 0.049168156785055046, 'subsample': 0.8805078117196313, 'colsample_bytree': 0.7498780195612, 'gamma': 0.002505686731363088, 'min_child_weight': 3}. Best is trial 33 with value: 0.6622154379146339.\u001b[0m\n",
      "\u001b[32m[I 2023-04-20 10:31:27,820]\u001b[0m Trial 50 finished with value: 0.6233024816066436 and parameters: {'max_depth': 2, 'learning_rate': 0.06876815708282416, 'subsample': 0.9293519514006315, 'colsample_bytree': 0.6326972881002771, 'gamma': 0.24568017924324614, 'min_child_weight': 1}. Best is trial 33 with value: 0.6622154379146339.\u001b[0m\n",
      "\u001b[32m[I 2023-04-20 10:31:29,687]\u001b[0m Trial 51 finished with value: 0.6588099217802265 and parameters: {'max_depth': 10, 'learning_rate': 0.0408495363152063, 'subsample': 0.9380590221936215, 'colsample_bytree': 0.6895466067127897, 'gamma': 0.12999014360461483, 'min_child_weight': 2}. Best is trial 33 with value: 0.6622154379146339.\u001b[0m\n",
      "\u001b[32m[I 2023-04-20 10:31:31,508]\u001b[0m Trial 52 finished with value: 0.6613946284644419 and parameters: {'max_depth': 10, 'learning_rate': 0.04618557419344126, 'subsample': 0.983735212013057, 'colsample_bytree': 0.688536848337437, 'gamma': 0.11614314330551412, 'min_child_weight': 1}. Best is trial 33 with value: 0.6622154379146339.\u001b[0m\n",
      "\u001b[32m[I 2023-04-20 10:31:33,345]\u001b[0m Trial 53 finished with value: 0.6610371924393588 and parameters: {'max_depth': 10, 'learning_rate': 0.04624671296175875, 'subsample': 0.9834683017970867, 'colsample_bytree': 0.7513796705570107, 'gamma': 0.10294521873076398, 'min_child_weight': 1}. Best is trial 33 with value: 0.6622154379146339.\u001b[0m\n",
      "\u001b[32m[I 2023-04-20 10:31:35,192]\u001b[0m Trial 54 finished with value: 0.6603634262057856 and parameters: {'max_depth': 10, 'learning_rate': 0.04638415222055054, 'subsample': 0.9815831108093562, 'colsample_bytree': 0.7454090735739438, 'gamma': 0.18158844806869892, 'min_child_weight': 1}. Best is trial 33 with value: 0.6622154379146339.\u001b[0m\n",
      "\u001b[32m[I 2023-04-20 10:31:36,993]\u001b[0m Trial 55 finished with value: 0.6578874429512473 and parameters: {'max_depth': 9, 'learning_rate': 0.04736764274889083, 'subsample': 0.9785586696669333, 'colsample_bytree': 0.7428497871469497, 'gamma': 0.18021395044222896, 'min_child_weight': 1}. Best is trial 33 with value: 0.6622154379146339.\u001b[0m\n",
      "\u001b[32m[I 2023-04-20 10:31:37,989]\u001b[0m Trial 56 finished with value: 0.6297568875037114 and parameters: {'max_depth': 4, 'learning_rate': 0.05826633829642383, 'subsample': 0.9850908586264367, 'colsample_bytree': 0.8119706938708795, 'gamma': 0.1157551090497897, 'min_child_weight': 1}. Best is trial 33 with value: 0.6622154379146339.\u001b[0m\n",
      "\u001b[32m[I 2023-04-20 10:31:40,045]\u001b[0m Trial 57 finished with value: 0.6627084623023037 and parameters: {'max_depth': 10, 'learning_rate': 0.053071517689530195, 'subsample': 0.9628391336177021, 'colsample_bytree': 0.7598492579503813, 'gamma': 0.214584813142542, 'min_child_weight': 1}. Best is trial 57 with value: 0.6627084623023037.\u001b[0m\n",
      "\u001b[32m[I 2023-04-20 10:31:42,178]\u001b[0m Trial 58 finished with value: 0.6669058941681745 and parameters: {'max_depth': 9, 'learning_rate': 0.0530145273923655, 'subsample': 0.9606248842820935, 'colsample_bytree': 0.8427851865288009, 'gamma': 0.2433656895460437, 'min_child_weight': 1}. Best is trial 58 with value: 0.6669058941681745.\u001b[0m\n",
      "\u001b[32m[I 2023-04-20 10:31:44,299]\u001b[0m Trial 59 finished with value: 0.6653904330423857 and parameters: {'max_depth': 9, 'learning_rate': 0.06371654964181707, 'subsample': 0.9601853296819621, 'colsample_bytree': 0.8466248614774436, 'gamma': 0.22362134349346013, 'min_child_weight': 1}. Best is trial 58 with value: 0.6669058941681745.\u001b[0m\n",
      "\u001b[32m[I 2023-04-20 10:31:46,422]\u001b[0m Trial 60 finished with value: 0.6664302377318922 and parameters: {'max_depth': 9, 'learning_rate': 0.0521122410152904, 'subsample': 0.9608560065314086, 'colsample_bytree': 0.8445860265490434, 'gamma': 0.24431119565105597, 'min_child_weight': 2}. Best is trial 58 with value: 0.6669058941681745.\u001b[0m\n",
      "\u001b[32m[I 2023-04-20 10:31:48,463]\u001b[0m Trial 61 finished with value: 0.6669487769122936 and parameters: {'max_depth': 9, 'learning_rate': 0.06339804124478059, 'subsample': 0.9554388838481755, 'colsample_bytree': 0.8570876319306284, 'gamma': 0.25703207505547, 'min_child_weight': 2}. Best is trial 61 with value: 0.6669487769122936.\u001b[0m\n",
      "\u001b[32m[I 2023-04-20 10:31:50,510]\u001b[0m Trial 62 finished with value: 0.6649823725003502 and parameters: {'max_depth': 9, 'learning_rate': 0.06478384948303798, 'subsample': 0.9611431464187807, 'colsample_bytree': 0.8469067177018431, 'gamma': 0.24828369966601427, 'min_child_weight': 3}. Best is trial 61 with value: 0.6669487769122936.\u001b[0m\n",
      "\u001b[32m[I 2023-04-20 10:31:52,319]\u001b[0m Trial 63 finished with value: 0.6617314072390297 and parameters: {'max_depth': 8, 'learning_rate': 0.06490147243850193, 'subsample': 0.9605459971165716, 'colsample_bytree': 0.854717018998365, 'gamma': 0.2580909916533565, 'min_child_weight': 2}. Best is trial 61 with value: 0.6669487769122936.\u001b[0m\n",
      "\u001b[32m[I 2023-04-20 10:31:54,319]\u001b[0m Trial 64 finished with value: 0.6638659037447925 and parameters: {'max_depth': 9, 'learning_rate': 0.06469252202538395, 'subsample': 0.9684958211017473, 'colsample_bytree': 0.8923083403005265, 'gamma': 0.2950471365245405, 'min_child_weight': 3}. Best is trial 61 with value: 0.6669487769122936.\u001b[0m\n",
      "\u001b[32m[I 2023-04-20 10:31:56,096]\u001b[0m Trial 65 finished with value: 0.6614426465712306 and parameters: {'max_depth': 8, 'learning_rate': 0.07203552828900624, 'subsample': 0.9588804680735379, 'colsample_bytree': 0.8944535727015493, 'gamma': 0.3057661908376474, 'min_child_weight': 3}. Best is trial 61 with value: 0.6669487769122936.\u001b[0m\n",
      "\u001b[32m[I 2023-04-20 10:31:58,189]\u001b[0m Trial 66 finished with value: 0.6671111473023561 and parameters: {'max_depth': 9, 'learning_rate': 0.06293443227501314, 'subsample': 0.9620822327173354, 'colsample_bytree': 0.8422940150153424, 'gamma': 0.22475360908566996, 'min_child_weight': 2}. Best is trial 66 with value: 0.6671111473023561.\u001b[0m\n",
      "\u001b[32m[I 2023-04-20 10:31:59,911]\u001b[0m Trial 67 finished with value: 0.6513298778273338 and parameters: {'max_depth': 7, 'learning_rate': 0.06363081801856055, 'subsample': 0.9944346121379359, 'colsample_bytree': 0.8379089074740492, 'gamma': 0.2542083796009171, 'min_child_weight': 2}. Best is trial 66 with value: 0.6671111473023561.\u001b[0m\n",
      "\u001b[32m[I 2023-04-20 10:32:02,080]\u001b[0m Trial 68 finished with value: 0.665281930210921 and parameters: {'max_depth': 9, 'learning_rate': 0.0664071400026654, 'subsample': 0.8963955744374463, 'colsample_bytree': 0.8754703520695218, 'gamma': 0.3460586275196183, 'min_child_weight': 3}. Best is trial 66 with value: 0.6671111473023561.\u001b[0m\n",
      "\u001b[32m[I 2023-04-20 10:32:03,933]\u001b[0m Trial 69 finished with value: 0.6633061935380612 and parameters: {'max_depth': 8, 'learning_rate': 0.07291862556822609, 'subsample': 0.947835446416848, 'colsample_bytree': 0.8752597404124649, 'gamma': 0.3461078794717451, 'min_child_weight': 2}. Best is trial 66 with value: 0.6671111473023561.\u001b[0m\n",
      "\u001b[32m[I 2023-04-20 10:32:06,069]\u001b[0m Trial 70 finished with value: 0.6645944811611788 and parameters: {'max_depth': 9, 'learning_rate': 0.05993592390426385, 'subsample': 0.9999516968332768, 'colsample_bytree': 0.8550474980687652, 'gamma': 0.3201765182512174, 'min_child_weight': 2}. Best is trial 66 with value: 0.6671111473023561.\u001b[0m\n",
      "\u001b[32m[I 2023-04-20 10:32:08,068]\u001b[0m Trial 71 finished with value: 0.6662053340007352 and parameters: {'max_depth': 9, 'learning_rate': 0.06060089020410142, 'subsample': 0.9692419210618106, 'colsample_bytree': 0.8510482442740377, 'gamma': 0.3140443690988126, 'min_child_weight': 2}. Best is trial 66 with value: 0.6671111473023561.\u001b[0m\n",
      "\u001b[32m[I 2023-04-20 10:32:10,046]\u001b[0m Trial 72 finished with value: 0.6661589288766205 and parameters: {'max_depth': 9, 'learning_rate': 0.06970358047715425, 'subsample': 0.8935684860768035, 'colsample_bytree': 0.9122431586267405, 'gamma': 0.275843669408272, 'min_child_weight': 3}. Best is trial 66 with value: 0.6671111473023561.\u001b[0m\n",
      "\u001b[32m[I 2023-04-20 10:32:12,034]\u001b[0m Trial 73 finished with value: 0.6653788970178495 and parameters: {'max_depth': 9, 'learning_rate': 0.06785694714255695, 'subsample': 0.8942169969992364, 'colsample_bytree': 0.9222711361902544, 'gamma': 0.36624000765221915, 'min_child_weight': 3}. Best is trial 66 with value: 0.6671111473023561.\u001b[0m\n",
      "\u001b[32m[I 2023-04-20 10:32:13,730]\u001b[0m Trial 74 finished with value: 0.6604034602668183 and parameters: {'max_depth': 8, 'learning_rate': 0.06926050874541302, 'subsample': 0.9389779161061746, 'colsample_bytree': 0.9288243208006318, 'gamma': 0.3676116021310541, 'min_child_weight': 4}. Best is trial 66 with value: 0.6671111473023561.\u001b[0m\n",
      "\u001b[32m[I 2023-04-20 10:32:15,746]\u001b[0m Trial 75 finished with value: 0.6645290067219249 and parameters: {'max_depth': 9, 'learning_rate': 0.0618789869622847, 'subsample': 0.893551192720441, 'colsample_bytree': 0.9141646828321072, 'gamma': 0.27901040155781925, 'min_child_weight': 2}. Best is trial 66 with value: 0.6671111473023561.\u001b[0m\n",
      "\u001b[32m[I 2023-04-20 10:32:17,724]\u001b[0m Trial 76 finished with value: 0.664936948444411 and parameters: {'max_depth': 9, 'learning_rate': 0.07481977628423855, 'subsample': 0.9517731794436913, 'colsample_bytree': 0.8229427071430848, 'gamma': 0.21625952485759237, 'min_child_weight': 2}. Best is trial 66 with value: 0.6671111473023561.\u001b[0m\n",
      "\u001b[32m[I 2023-04-20 10:32:19,227]\u001b[0m Trial 77 finished with value: 0.6515239559138746 and parameters: {'max_depth': 7, 'learning_rate': 0.07764714557017001, 'subsample': 0.9762032574391658, 'colsample_bytree': 0.952497603107635, 'gamma': 0.30478219627111564, 'min_child_weight': 2}. Best is trial 66 with value: 0.6671111473023561.\u001b[0m\n",
      "\u001b[32m[I 2023-04-20 10:32:21,063]\u001b[0m Trial 78 finished with value: 0.661282206819752 and parameters: {'max_depth': 8, 'learning_rate': 0.058408580385579785, 'subsample': 0.8689093106878281, 'colsample_bytree': 0.9059348991152422, 'gamma': 0.2730358032951502, 'min_child_weight': 1}. Best is trial 66 with value: 0.6671111473023561.\u001b[0m\n",
      "\u001b[32m[I 2023-04-20 10:32:23,017]\u001b[0m Trial 79 finished with value: 0.6650828665323724 and parameters: {'max_depth': 9, 'learning_rate': 0.06836288759198723, 'subsample': 0.9059368611663345, 'colsample_bytree': 0.9450877794698307, 'gamma': 0.37360340681559867, 'min_child_weight': 4}. Best is trial 66 with value: 0.6671111473023561.\u001b[0m\n",
      "\u001b[32m[I 2023-04-20 10:32:24,987]\u001b[0m Trial 80 finished with value: 0.6636802766000651 and parameters: {'max_depth': 9, 'learning_rate': 0.05448296066888883, 'subsample': 0.9327397347338607, 'colsample_bytree': 0.9762150360726094, 'gamma': 0.3281445264440208, 'min_child_weight': 2}. Best is trial 66 with value: 0.6671111473023561.\u001b[0m\n",
      "\u001b[32m[I 2023-04-20 10:32:26,985]\u001b[0m Trial 81 finished with value: 0.6659778803641073 and parameters: {'max_depth': 9, 'learning_rate': 0.06617501447153813, 'subsample': 0.903243712553533, 'colsample_bytree': 0.8758812140833453, 'gamma': 0.33574609172967607, 'min_child_weight': 3}. Best is trial 66 with value: 0.6671111473023561.\u001b[0m\n",
      "\u001b[32m[I 2023-04-20 10:32:28,940]\u001b[0m Trial 82 finished with value: 0.6637727539596261 and parameters: {'max_depth': 9, 'learning_rate': 0.062004722415500695, 'subsample': 0.9464207110111673, 'colsample_bytree': 0.8834919174024538, 'gamma': 0.22191329616821326, 'min_child_weight': 3}. Best is trial 66 with value: 0.6671111473023561.\u001b[0m\n",
      "\u001b[32m[I 2023-04-20 10:32:30,702]\u001b[0m Trial 83 finished with value: 0.6622275969666328 and parameters: {'max_depth': 8, 'learning_rate': 0.06708073598333818, 'subsample': 0.9212977787659713, 'colsample_bytree': 0.921227237513452, 'gamma': 0.2669612403749295, 'min_child_weight': 3}. Best is trial 66 with value: 0.6671111473023561.\u001b[0m\n",
      "\u001b[32m[I 2023-04-20 10:32:32,633]\u001b[0m Trial 84 finished with value: 0.665082443416909 and parameters: {'max_depth': 9, 'learning_rate': 0.05760408697219319, 'subsample': 0.9729556558420741, 'colsample_bytree': 0.8385281497134366, 'gamma': 0.29441312226852273, 'min_child_weight': 3}. Best is trial 66 with value: 0.6671111473023561.\u001b[0m\n",
      "\u001b[32m[I 2023-04-20 10:32:34,431]\u001b[0m Trial 85 finished with value: 0.6618882338529657 and parameters: {'max_depth': 8, 'learning_rate': 0.05140303165045773, 'subsample': 0.8883144311283007, 'colsample_bytree': 0.8652845721669359, 'gamma': 0.2437251120050716, 'min_child_weight': 2}. Best is trial 66 with value: 0.6671111473023561.\u001b[0m\n",
      "\u001b[32m[I 2023-04-20 10:32:36,487]\u001b[0m Trial 86 finished with value: 0.6664801445012183 and parameters: {'max_depth': 9, 'learning_rate': 0.060797083837935965, 'subsample': 0.908205509217428, 'colsample_bytree': 0.8029596941748345, 'gamma': 0.20758943046643433, 'min_child_weight': 1}. Best is trial 66 with value: 0.6671111473023561.\u001b[0m\n",
      "\u001b[32m[I 2023-04-20 10:32:37,820]\u001b[0m Trial 87 finished with value: 0.6440704996839178 and parameters: {'max_depth': 6, 'learning_rate': 0.060239323420058354, 'subsample': 0.928419895282823, 'colsample_bytree': 0.8009900086311613, 'gamma': 0.20974876427669675, 'min_child_weight': 1}. Best is trial 66 with value: 0.6671111473023561.\u001b[0m\n",
      "\u001b[32m[I 2023-04-20 10:32:39,865]\u001b[0m Trial 88 finished with value: 0.6677222236774856 and parameters: {'max_depth': 9, 'learning_rate': 0.05561900451763449, 'subsample': 0.9105618884693536, 'colsample_bytree': 0.8281678703796822, 'gamma': 0.15520851980820644, 'min_child_weight': 1}. Best is trial 88 with value: 0.6677222236774856.\u001b[0m\n",
      "\u001b[32m[I 2023-04-20 10:32:41,662]\u001b[0m Trial 89 finished with value: 0.6612033486463299 and parameters: {'max_depth': 8, 'learning_rate': 0.05510000667353147, 'subsample': 0.9064401221249611, 'colsample_bytree': 0.808688589115104, 'gamma': 0.1601694747612531, 'min_child_weight': 1}. Best is trial 88 with value: 0.6677222236774856.\u001b[0m\n",
      "\u001b[32m[I 2023-04-20 10:32:43,456]\u001b[0m Trial 90 finished with value: 0.6588421192857072 and parameters: {'max_depth': 9, 'learning_rate': 0.052353041903343764, 'subsample': 0.9131406356336177, 'colsample_bytree': 0.7806637288687823, 'gamma': 0.19675235433459606, 'min_child_weight': 2}. Best is trial 88 with value: 0.6677222236774856.\u001b[0m\n",
      "\u001b[32m[I 2023-04-20 10:32:45,512]\u001b[0m Trial 91 finished with value: 0.6672293785332054 and parameters: {'max_depth': 9, 'learning_rate': 0.062482551788506625, 'subsample': 0.9422649421493098, 'colsample_bytree': 0.8249910994982402, 'gamma': 0.14866197432813766, 'min_child_weight': 1}. Best is trial 88 with value: 0.6677222236774856.\u001b[0m\n",
      "\u001b[32m[I 2023-04-20 10:32:47,545]\u001b[0m Trial 92 finished with value: 0.667190352626904 and parameters: {'max_depth': 9, 'learning_rate': 0.05707349588469812, 'subsample': 0.9404507305165353, 'colsample_bytree': 0.8270509785623767, 'gamma': 0.14650722764360508, 'min_child_weight': 1}. Best is trial 88 with value: 0.6677222236774856.\u001b[0m\n",
      "\u001b[32m[I 2023-04-20 10:32:49,555]\u001b[0m Trial 93 finished with value: 0.6677686449810192 and parameters: {'max_depth': 9, 'learning_rate': 0.05783023302268666, 'subsample': 0.9399332125486882, 'colsample_bytree': 0.8252518670920204, 'gamma': 0.14198211778528902, 'min_child_weight': 1}. Best is trial 93 with value: 0.6677686449810192.\u001b[0m\n",
      "\u001b[32m[I 2023-04-20 10:32:51,569]\u001b[0m Trial 94 finished with value: 0.6667646374907017 and parameters: {'max_depth': 9, 'learning_rate': 0.05685141009932016, 'subsample': 0.9388055583944017, 'colsample_bytree': 0.8101272184562727, 'gamma': 0.1480850256963187, 'min_child_weight': 1}. Best is trial 93 with value: 0.6677686449810192.\u001b[0m\n",
      "\u001b[32m[I 2023-04-20 10:32:53,592]\u001b[0m Trial 95 finished with value: 0.6678584366424664 and parameters: {'max_depth': 9, 'learning_rate': 0.05652032524118292, 'subsample': 0.9403063280281854, 'colsample_bytree': 0.8291547587295084, 'gamma': 0.14646520293524967, 'min_child_weight': 1}. Best is trial 95 with value: 0.6678584366424664.\u001b[0m\n",
      "\u001b[32m[I 2023-04-20 10:32:55,368]\u001b[0m Trial 96 finished with value: 0.6620965246325216 and parameters: {'max_depth': 8, 'learning_rate': 0.057332686155489275, 'subsample': 0.9381949630085338, 'colsample_bytree': 0.8254941566169006, 'gamma': 0.1435073317307573, 'min_child_weight': 1}. Best is trial 95 with value: 0.6678584366424664.\u001b[0m\n",
      "\u001b[32m[I 2023-04-20 10:32:57,332]\u001b[0m Trial 97 finished with value: 0.6601413059604107 and parameters: {'max_depth': 9, 'learning_rate': 0.05555234875456676, 'subsample': 0.9254024992162008, 'colsample_bytree': 0.7709877257300274, 'gamma': 0.14009763664053745, 'min_child_weight': 1}. Best is trial 95 with value: 0.6678584366424664.\u001b[0m\n",
      "\u001b[32m[I 2023-04-20 10:32:59,186]\u001b[0m Trial 98 finished with value: 0.658173254109677 and parameters: {'max_depth': 9, 'learning_rate': 0.0493367787401095, 'subsample': 0.946607260282963, 'colsample_bytree': 0.794067980948993, 'gamma': 0.16353921926673806, 'min_child_weight': 1}. Best is trial 95 with value: 0.6678584366424664.\u001b[0m\n",
      "\u001b[32m[I 2023-04-20 10:33:00,588]\u001b[0m Trial 99 finished with value: 0.6377951378251403 and parameters: {'max_depth': 5, 'learning_rate': 0.05867648492145619, 'subsample': 0.9215784437054789, 'colsample_bytree': 0.8177959142670868, 'gamma': 0.09449540633392794, 'min_child_weight': 1}. Best is trial 95 with value: 0.6678584366424664.\u001b[0m\n"
     ]
    },
    {
     "name": "stdout",
     "output_type": "stream",
     "text": [
      "Best hyperparameters:  {'max_depth': 9, 'learning_rate': 0.05652032524118292, 'subsample': 0.9403063280281854, 'colsample_bytree': 0.8291547587295084, 'gamma': 0.14646520293524967, 'min_child_weight': 1}\n",
      "Best F1 score:  0.6678584366424664\n"
     ]
    }
   ],
   "source": [
    "import optuna\n",
    "study = optuna.create_study(direction='maximize')\n",
    "study.optimize(objective, n_trials=100)\n",
    "\n",
    "# Print best hyperparameters and F1 score\n",
    "print('Best hyperparameters: ', study.best_params)\n",
    "print('Best F1 score: ', study.best_value)"
   ]
  },
  {
   "cell_type": "code",
   "execution_count": 83,
   "metadata": {},
   "outputs": [
    {
     "name": "stdout",
     "output_type": "stream",
     "text": [
      "Shutting down background jobs, please wait a moment...\n",
      "Done!\n",
      "Waiting for the remaining 43 operations to synchronize with Neptune. Do not kill this process.\n",
      "All 43 operations synced, thanks for waiting!\n",
      "Explore the metadata in the Neptune app:\n",
      "https://app.neptune.ai/ivanv21/modelo-buenos-aires/e/BA-20/metadata\n"
     ]
    }
   ],
   "source": [
    "best_params = study.best_params\n",
    "best_f1 = study.best_value\n",
    "\n",
    "run['best_params'] = best_params\n",
    "run['best_f1'] = best_f1\n",
    "\n",
    "run.stop()"
   ]
  },
  {
   "cell_type": "code",
   "execution_count": 84,
   "metadata": {},
   "outputs": [
    {
     "data": {
      "text/html": [
       "<style>#sk-container-id-1 {color: black;background-color: white;}#sk-container-id-1 pre{padding: 0;}#sk-container-id-1 div.sk-toggleable {background-color: white;}#sk-container-id-1 label.sk-toggleable__label {cursor: pointer;display: block;width: 100%;margin-bottom: 0;padding: 0.3em;box-sizing: border-box;text-align: center;}#sk-container-id-1 label.sk-toggleable__label-arrow:before {content: \"▸\";float: left;margin-right: 0.25em;color: #696969;}#sk-container-id-1 label.sk-toggleable__label-arrow:hover:before {color: black;}#sk-container-id-1 div.sk-estimator:hover label.sk-toggleable__label-arrow:before {color: black;}#sk-container-id-1 div.sk-toggleable__content {max-height: 0;max-width: 0;overflow: hidden;text-align: left;background-color: #f0f8ff;}#sk-container-id-1 div.sk-toggleable__content pre {margin: 0.2em;color: black;border-radius: 0.25em;background-color: #f0f8ff;}#sk-container-id-1 input.sk-toggleable__control:checked~div.sk-toggleable__content {max-height: 200px;max-width: 100%;overflow: auto;}#sk-container-id-1 input.sk-toggleable__control:checked~label.sk-toggleable__label-arrow:before {content: \"▾\";}#sk-container-id-1 div.sk-estimator input.sk-toggleable__control:checked~label.sk-toggleable__label {background-color: #d4ebff;}#sk-container-id-1 div.sk-label input.sk-toggleable__control:checked~label.sk-toggleable__label {background-color: #d4ebff;}#sk-container-id-1 input.sk-hidden--visually {border: 0;clip: rect(1px 1px 1px 1px);clip: rect(1px, 1px, 1px, 1px);height: 1px;margin: -1px;overflow: hidden;padding: 0;position: absolute;width: 1px;}#sk-container-id-1 div.sk-estimator {font-family: monospace;background-color: #f0f8ff;border: 1px dotted black;border-radius: 0.25em;box-sizing: border-box;margin-bottom: 0.5em;}#sk-container-id-1 div.sk-estimator:hover {background-color: #d4ebff;}#sk-container-id-1 div.sk-parallel-item::after {content: \"\";width: 100%;border-bottom: 1px solid gray;flex-grow: 1;}#sk-container-id-1 div.sk-label:hover label.sk-toggleable__label {background-color: #d4ebff;}#sk-container-id-1 div.sk-serial::before {content: \"\";position: absolute;border-left: 1px solid gray;box-sizing: border-box;top: 0;bottom: 0;left: 50%;z-index: 0;}#sk-container-id-1 div.sk-serial {display: flex;flex-direction: column;align-items: center;background-color: white;padding-right: 0.2em;padding-left: 0.2em;position: relative;}#sk-container-id-1 div.sk-item {position: relative;z-index: 1;}#sk-container-id-1 div.sk-parallel {display: flex;align-items: stretch;justify-content: center;background-color: white;position: relative;}#sk-container-id-1 div.sk-item::before, #sk-container-id-1 div.sk-parallel-item::before {content: \"\";position: absolute;border-left: 1px solid gray;box-sizing: border-box;top: 0;bottom: 0;left: 50%;z-index: -1;}#sk-container-id-1 div.sk-parallel-item {display: flex;flex-direction: column;z-index: 1;position: relative;background-color: white;}#sk-container-id-1 div.sk-parallel-item:first-child::after {align-self: flex-end;width: 50%;}#sk-container-id-1 div.sk-parallel-item:last-child::after {align-self: flex-start;width: 50%;}#sk-container-id-1 div.sk-parallel-item:only-child::after {width: 0;}#sk-container-id-1 div.sk-dashed-wrapped {border: 1px dashed gray;margin: 0 0.4em 0.5em 0.4em;box-sizing: border-box;padding-bottom: 0.4em;background-color: white;}#sk-container-id-1 div.sk-label label {font-family: monospace;font-weight: bold;display: inline-block;line-height: 1.2em;}#sk-container-id-1 div.sk-label-container {text-align: center;}#sk-container-id-1 div.sk-container {/* jupyter's `normalize.less` sets `[hidden] { display: none; }` but bootstrap.min.css set `[hidden] { display: none !important; }` so we also need the `!important` here to be able to override the default hidden behavior on the sphinx rendered scikit-learn.org. See: https://github.com/scikit-learn/scikit-learn/issues/21755 */display: inline-block !important;position: relative;}#sk-container-id-1 div.sk-text-repr-fallback {display: none;}</style><div id=\"sk-container-id-1\" class=\"sk-top-container\"><div class=\"sk-text-repr-fallback\"><pre>XGBClassifier(base_score=None, booster=None, callbacks=None,\n",
       "              colsample_bylevel=None, colsample_bynode=None,\n",
       "              colsample_bytree=0.8291547587295084, early_stopping_rounds=None,\n",
       "              enable_categorical=False, eval_metric=None, feature_types=None,\n",
       "              gamma=0.14646520293524967, gpu_id=None, grow_policy=None,\n",
       "              importance_type=None, interaction_constraints=None,\n",
       "              learning_rate=0.05652032524118292, max_bin=None,\n",
       "              max_cat_threshold=None, max_cat_to_onehot=None,\n",
       "              max_delta_step=None, max_depth=9, max_leaves=None,\n",
       "              min_child_weight=1, missing=nan, monotone_constraints=None,\n",
       "              n_estimators=100, n_jobs=None, num_parallel_tree=None,\n",
       "              objective=&#x27;multi:softprob&#x27;, predictor=None, ...)</pre><b>In a Jupyter environment, please rerun this cell to show the HTML representation or trust the notebook. <br />On GitHub, the HTML representation is unable to render, please try loading this page with nbviewer.org.</b></div><div class=\"sk-container\" hidden><div class=\"sk-item\"><div class=\"sk-estimator sk-toggleable\"><input class=\"sk-toggleable__control sk-hidden--visually\" id=\"sk-estimator-id-1\" type=\"checkbox\" checked><label for=\"sk-estimator-id-1\" class=\"sk-toggleable__label sk-toggleable__label-arrow\">XGBClassifier</label><div class=\"sk-toggleable__content\"><pre>XGBClassifier(base_score=None, booster=None, callbacks=None,\n",
       "              colsample_bylevel=None, colsample_bynode=None,\n",
       "              colsample_bytree=0.8291547587295084, early_stopping_rounds=None,\n",
       "              enable_categorical=False, eval_metric=None, feature_types=None,\n",
       "              gamma=0.14646520293524967, gpu_id=None, grow_policy=None,\n",
       "              importance_type=None, interaction_constraints=None,\n",
       "              learning_rate=0.05652032524118292, max_bin=None,\n",
       "              max_cat_threshold=None, max_cat_to_onehot=None,\n",
       "              max_delta_step=None, max_depth=9, max_leaves=None,\n",
       "              min_child_weight=1, missing=nan, monotone_constraints=None,\n",
       "              n_estimators=100, n_jobs=None, num_parallel_tree=None,\n",
       "              objective=&#x27;multi:softprob&#x27;, predictor=None, ...)</pre></div></div></div></div></div>"
      ],
      "text/plain": [
       "XGBClassifier(base_score=None, booster=None, callbacks=None,\n",
       "              colsample_bylevel=None, colsample_bynode=None,\n",
       "              colsample_bytree=0.8291547587295084, early_stopping_rounds=None,\n",
       "              enable_categorical=False, eval_metric=None, feature_types=None,\n",
       "              gamma=0.14646520293524967, gpu_id=None, grow_policy=None,\n",
       "              importance_type=None, interaction_constraints=None,\n",
       "              learning_rate=0.05652032524118292, max_bin=None,\n",
       "              max_cat_threshold=None, max_cat_to_onehot=None,\n",
       "              max_delta_step=None, max_depth=9, max_leaves=None,\n",
       "              min_child_weight=1, missing=nan, monotone_constraints=None,\n",
       "              n_estimators=100, n_jobs=None, num_parallel_tree=None,\n",
       "              objective='multi:softprob', predictor=None, ...)"
      ]
     },
     "execution_count": 84,
     "metadata": {},
     "output_type": "execute_result"
    }
   ],
   "source": [
    "x_train_val = np.concatenate((x_train, x_val))\n",
    "y_train_val = np.concatenate((y_train, y_val))\n",
    "\n",
    "xgb_opt = xgboost.XGBClassifier(**best_params)\n",
    "xgb_opt.fit(x_train_val, y_train_val)"
   ]
  },
  {
   "cell_type": "code",
   "execution_count": 85,
   "metadata": {},
   "outputs": [
    {
     "name": "stdout",
     "output_type": "stream",
     "text": [
      "Optimized XGBoost classifier F1 score: 0.70\n"
     ]
    }
   ],
   "source": [
    "x_val_test = np.concatenate((x_val, x_test))\n",
    "y_val_test = np.concatenate((y_val, y_test))\n",
    "xgb_opt_yhat = xgb_opt.predict(x_val_test)\n",
    "\n",
    "print(\"Optimized XGBoost classifier F1 score: %.2f\" % f1_score(y_val_test, xgb_opt_yhat, average='macro'))"
   ]
  },
  {
   "cell_type": "code",
   "execution_count": 86,
   "metadata": {},
   "outputs": [],
   "source": [
    "import pickle\n",
    "with open('xgb_opt_model.pkl', 'wb') as f:\n",
    "    pickle.dump(xgb_opt, f)"
   ]
  },
  {
   "cell_type": "code",
   "execution_count": 87,
   "metadata": {},
   "outputs": [
    {
     "data": {
      "text/plain": [
       "edad                                int64\n",
       "años_escolaridad                    int32\n",
       "cantidad_hijos_nac_vivos            int64\n",
       "sexo                                int32\n",
       "cat_ocupacional_Patron/empleador    int32\n",
       "dtype: object"
      ]
     },
     "execution_count": 87,
     "metadata": {},
     "output_type": "execute_result"
    }
   ],
   "source": [
    "x_train.dtypes"
   ]
  },
  {
   "cell_type": "code",
   "execution_count": null,
   "metadata": {},
   "outputs": [],
   "source": []
  }
 ],
 "metadata": {
  "kernelspec": {
   "display_name": "Python 3",
   "language": "python",
   "name": "python3"
  },
  "language_info": {
   "codemirror_mode": {
    "name": "ipython",
    "version": 3
   },
   "file_extension": ".py",
   "mimetype": "text/x-python",
   "name": "python",
   "nbconvert_exporter": "python",
   "pygments_lexer": "ipython3",
   "version": "3.10.11"
  },
  "orig_nbformat": 4
 },
 "nbformat": 4,
 "nbformat_minor": 2
}
